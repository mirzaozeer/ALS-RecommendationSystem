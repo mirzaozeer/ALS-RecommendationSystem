{
 "cells": [
  {
   "cell_type": "code",
   "execution_count": 1,
   "id": "5e1401e1",
   "metadata": {},
   "outputs": [],
   "source": [
    "#!pip install pandas==1.3.5"
   ]
  },
  {
   "cell_type": "code",
   "execution_count": 2,
   "id": "0352398b",
   "metadata": {},
   "outputs": [
    {
     "name": "stdout",
     "output_type": "stream",
     "text": [
      "System version: 3.9.7 (default, Sep 16 2021, 16:59:28) [MSC v.1916 64 bit (AMD64)]\n",
      "Spark version: 3.1.2\n"
     ]
    }
   ],
   "source": [
    "import pandas as pd\n",
    "import sys\n",
    "import os \n",
    "\n",
    "os.environ['PYSPARK_DRIVER_PYTHON_OPTS']= \"notebook\"\n",
    "os.environ['PYSPARK_PYTHON'] = sys.executable\n",
    "os.environ['PYSPARK_DRIVER_PYTHON'] = sys.executable\n",
    "\n",
    "import string\n",
    "import pyspark\n",
    "from pyspark.ml.recommendation import ALS\n",
    "import pyspark.sql.functions as F\n",
    "import pyspark.sql.functions as F\n",
    "from pyspark.sql import SparkSession\n",
    "from pyspark.sql.types import StructType, StructField\n",
    "from pyspark.sql.types import StringType, FloatType, IntegerType, LongType\n",
    "import warnings\n",
    "\n",
    "from recommenders.utils.spark_utils import start_or_get_spark\n",
    "from pyspark.ml.evaluation import RegressionEvaluator\n",
    "from pyspark.ml.recommendation import ALS\n",
    "from pyspark.ml.tuning import TrainValidationSplit, ParamGridBuilder\n",
    "\n",
    "\n",
    "warnings.simplefilter(action='ignore', category=FutureWarning)\n",
    "\n",
    "print(\"System version: {}\".format(sys.version))\n",
    "print(\"Spark version: {}\".format(pyspark.__version__))"
   ]
  },
  {
   "cell_type": "code",
   "execution_count": 3,
   "id": "acba63a0",
   "metadata": {},
   "outputs": [
    {
     "data": {
      "text/plain": [
       "'1.3.5'"
      ]
     },
     "execution_count": 3,
     "metadata": {},
     "output_type": "execute_result"
    }
   ],
   "source": [
    "pd.__version__"
   ]
  },
  {
   "cell_type": "code",
   "execution_count": 47,
   "id": "62ff892f",
   "metadata": {},
   "outputs": [
    {
     "name": "stderr",
     "output_type": "stream",
     "text": [
      "C:\\Users\\mirza\\anaconda3\\lib\\site-packages\\pandas\\util\\_decorators.py:311: ParserWarning: Falling back to the 'python' engine because the 'c' engine does not support regex separators (separators > 1 char and different from '\\s+' are interpreted as regex); you can avoid this warning by specifying engine='python'.\n",
      "  return func(*args, **kwargs)\n"
     ]
    }
   ],
   "source": [
    "ratings_data = pd.read_csv(\n",
    "        r\"C:\\Users\\mirza\\Desktop\\dataset\\MovieLens-1M\\ratings.csv\",sep = \"::\",\n",
    "        names=[\"userId\", \"movieId\", \"ratings\", \"timestamp\"])\n",
    "\n",
    "movie= pd.read_csv(\n",
    "        r\"C:\\Users\\mirza\\Desktop\\dataset\\MovieLens-1M\\movies.csv\",sep = \"::\",\n",
    "        names=[\"movieId\", \"Title\", \"Genres\"])"
   ]
  },
  {
   "cell_type": "code",
   "execution_count": 48,
   "id": "894504d6",
   "metadata": {},
   "outputs": [
    {
     "data": {
      "text/html": [
       "<div>\n",
       "<style scoped>\n",
       "    .dataframe tbody tr th:only-of-type {\n",
       "        vertical-align: middle;\n",
       "    }\n",
       "\n",
       "    .dataframe tbody tr th {\n",
       "        vertical-align: top;\n",
       "    }\n",
       "\n",
       "    .dataframe thead th {\n",
       "        text-align: right;\n",
       "    }\n",
       "</style>\n",
       "<table border=\"1\" class=\"dataframe\">\n",
       "  <thead>\n",
       "    <tr style=\"text-align: right;\">\n",
       "      <th></th>\n",
       "      <th>movieId</th>\n",
       "      <th>Title</th>\n",
       "      <th>Genres</th>\n",
       "    </tr>\n",
       "  </thead>\n",
       "  <tbody>\n",
       "    <tr>\n",
       "      <th>0</th>\n",
       "      <td>1</td>\n",
       "      <td>Toy Story (1995)</td>\n",
       "      <td>Animation|Children's|Comedy</td>\n",
       "    </tr>\n",
       "    <tr>\n",
       "      <th>1</th>\n",
       "      <td>2</td>\n",
       "      <td>Jumanji (1995)</td>\n",
       "      <td>Adventure|Children's|Fantasy</td>\n",
       "    </tr>\n",
       "    <tr>\n",
       "      <th>2</th>\n",
       "      <td>3</td>\n",
       "      <td>Grumpier Old Men (1995)</td>\n",
       "      <td>Comedy|Romance</td>\n",
       "    </tr>\n",
       "    <tr>\n",
       "      <th>3</th>\n",
       "      <td>4</td>\n",
       "      <td>Waiting to Exhale (1995)</td>\n",
       "      <td>Comedy|Drama</td>\n",
       "    </tr>\n",
       "    <tr>\n",
       "      <th>4</th>\n",
       "      <td>5</td>\n",
       "      <td>Father of the Bride Part II (1995)</td>\n",
       "      <td>Comedy</td>\n",
       "    </tr>\n",
       "    <tr>\n",
       "      <th>...</th>\n",
       "      <td>...</td>\n",
       "      <td>...</td>\n",
       "      <td>...</td>\n",
       "    </tr>\n",
       "    <tr>\n",
       "      <th>3878</th>\n",
       "      <td>3948</td>\n",
       "      <td>Meet the Parents (2000)</td>\n",
       "      <td>Comedy</td>\n",
       "    </tr>\n",
       "    <tr>\n",
       "      <th>3879</th>\n",
       "      <td>3949</td>\n",
       "      <td>Requiem for a Dream (2000)</td>\n",
       "      <td>Drama</td>\n",
       "    </tr>\n",
       "    <tr>\n",
       "      <th>3880</th>\n",
       "      <td>3950</td>\n",
       "      <td>Tigerland (2000)</td>\n",
       "      <td>Drama</td>\n",
       "    </tr>\n",
       "    <tr>\n",
       "      <th>3881</th>\n",
       "      <td>3951</td>\n",
       "      <td>Two Family House (2000)</td>\n",
       "      <td>Drama</td>\n",
       "    </tr>\n",
       "    <tr>\n",
       "      <th>3882</th>\n",
       "      <td>3952</td>\n",
       "      <td>Contender, The (2000)</td>\n",
       "      <td>Drama|Thriller</td>\n",
       "    </tr>\n",
       "  </tbody>\n",
       "</table>\n",
       "<p>3883 rows × 3 columns</p>\n",
       "</div>"
      ],
      "text/plain": [
       "     movieId                               Title                        Genres\n",
       "0          1                    Toy Story (1995)   Animation|Children's|Comedy\n",
       "1          2                      Jumanji (1995)  Adventure|Children's|Fantasy\n",
       "2          3             Grumpier Old Men (1995)                Comedy|Romance\n",
       "3          4            Waiting to Exhale (1995)                  Comedy|Drama\n",
       "4          5  Father of the Bride Part II (1995)                        Comedy\n",
       "...      ...                                 ...                           ...\n",
       "3878    3948             Meet the Parents (2000)                        Comedy\n",
       "3879    3949          Requiem for a Dream (2000)                         Drama\n",
       "3880    3950                    Tigerland (2000)                         Drama\n",
       "3881    3951             Two Family House (2000)                         Drama\n",
       "3882    3952               Contender, The (2000)                Drama|Thriller\n",
       "\n",
       "[3883 rows x 3 columns]"
      ]
     },
     "execution_count": 48,
     "metadata": {},
     "output_type": "execute_result"
    }
   ],
   "source": [
    "movie"
   ]
  },
  {
   "cell_type": "code",
   "execution_count": 49,
   "id": "cfa0cc0f",
   "metadata": {},
   "outputs": [
    {
     "data": {
      "text/html": [
       "<div>\n",
       "<style scoped>\n",
       "    .dataframe tbody tr th:only-of-type {\n",
       "        vertical-align: middle;\n",
       "    }\n",
       "\n",
       "    .dataframe tbody tr th {\n",
       "        vertical-align: top;\n",
       "    }\n",
       "\n",
       "    .dataframe thead th {\n",
       "        text-align: right;\n",
       "    }\n",
       "</style>\n",
       "<table border=\"1\" class=\"dataframe\">\n",
       "  <thead>\n",
       "    <tr style=\"text-align: right;\">\n",
       "      <th></th>\n",
       "      <th>userId</th>\n",
       "      <th>movieId</th>\n",
       "      <th>ratings</th>\n",
       "      <th>timestamp</th>\n",
       "    </tr>\n",
       "  </thead>\n",
       "  <tbody>\n",
       "    <tr>\n",
       "      <th>0</th>\n",
       "      <td>1</td>\n",
       "      <td>1193</td>\n",
       "      <td>5</td>\n",
       "      <td>978300760</td>\n",
       "    </tr>\n",
       "    <tr>\n",
       "      <th>1</th>\n",
       "      <td>1</td>\n",
       "      <td>661</td>\n",
       "      <td>3</td>\n",
       "      <td>978302109</td>\n",
       "    </tr>\n",
       "    <tr>\n",
       "      <th>2</th>\n",
       "      <td>1</td>\n",
       "      <td>914</td>\n",
       "      <td>3</td>\n",
       "      <td>978301968</td>\n",
       "    </tr>\n",
       "    <tr>\n",
       "      <th>3</th>\n",
       "      <td>1</td>\n",
       "      <td>3408</td>\n",
       "      <td>4</td>\n",
       "      <td>978300275</td>\n",
       "    </tr>\n",
       "    <tr>\n",
       "      <th>4</th>\n",
       "      <td>1</td>\n",
       "      <td>2355</td>\n",
       "      <td>5</td>\n",
       "      <td>978824291</td>\n",
       "    </tr>\n",
       "    <tr>\n",
       "      <th>...</th>\n",
       "      <td>...</td>\n",
       "      <td>...</td>\n",
       "      <td>...</td>\n",
       "      <td>...</td>\n",
       "    </tr>\n",
       "    <tr>\n",
       "      <th>1000204</th>\n",
       "      <td>6040</td>\n",
       "      <td>1091</td>\n",
       "      <td>1</td>\n",
       "      <td>956716541</td>\n",
       "    </tr>\n",
       "    <tr>\n",
       "      <th>1000205</th>\n",
       "      <td>6040</td>\n",
       "      <td>1094</td>\n",
       "      <td>5</td>\n",
       "      <td>956704887</td>\n",
       "    </tr>\n",
       "    <tr>\n",
       "      <th>1000206</th>\n",
       "      <td>6040</td>\n",
       "      <td>562</td>\n",
       "      <td>5</td>\n",
       "      <td>956704746</td>\n",
       "    </tr>\n",
       "    <tr>\n",
       "      <th>1000207</th>\n",
       "      <td>6040</td>\n",
       "      <td>1096</td>\n",
       "      <td>4</td>\n",
       "      <td>956715648</td>\n",
       "    </tr>\n",
       "    <tr>\n",
       "      <th>1000208</th>\n",
       "      <td>6040</td>\n",
       "      <td>1097</td>\n",
       "      <td>4</td>\n",
       "      <td>956715569</td>\n",
       "    </tr>\n",
       "  </tbody>\n",
       "</table>\n",
       "<p>1000209 rows × 4 columns</p>\n",
       "</div>"
      ],
      "text/plain": [
       "         userId  movieId  ratings  timestamp\n",
       "0             1     1193        5  978300760\n",
       "1             1      661        3  978302109\n",
       "2             1      914        3  978301968\n",
       "3             1     3408        4  978300275\n",
       "4             1     2355        5  978824291\n",
       "...         ...      ...      ...        ...\n",
       "1000204    6040     1091        1  956716541\n",
       "1000205    6040     1094        5  956704887\n",
       "1000206    6040      562        5  956704746\n",
       "1000207    6040     1096        4  956715648\n",
       "1000208    6040     1097        4  956715569\n",
       "\n",
       "[1000209 rows x 4 columns]"
      ]
     },
     "execution_count": 49,
     "metadata": {},
     "output_type": "execute_result"
    }
   ],
   "source": [
    "ratings_data"
   ]
  },
  {
   "cell_type": "code",
   "execution_count": 50,
   "id": "e39bbea8",
   "metadata": {},
   "outputs": [],
   "source": [
    " spark = SparkSession \\\n",
    "  .builder \\\n",
    "  .appName(\"Example\") \\\n",
    "  .config(\"spark.driver.memory\", \"16g\")\\\n",
    "  .getOrCreate()"
   ]
  },
  {
   "cell_type": "code",
   "execution_count": 51,
   "id": "77ca4ec0",
   "metadata": {},
   "outputs": [],
   "source": [
    "ratings_data=spark.createDataFrame(ratings_data) \n",
    "#movie=spark.createDataFrame(movie) "
   ]
  },
  {
   "cell_type": "code",
   "execution_count": 52,
   "id": "5140a847",
   "metadata": {},
   "outputs": [
    {
     "name": "stdout",
     "output_type": "stream",
     "text": [
      "userId , LongType\n",
      "movieId , LongType\n",
      "ratings , LongType\n",
      "timestamp , LongType\n"
     ]
    }
   ],
   "source": [
    "for field in ratings_data.schema.fields:\n",
    "    print(field.name +\" , \"+str(field.dataType))"
   ]
  },
  {
   "cell_type": "raw",
   "id": "de1cf0fe",
   "metadata": {},
   "source": [
    "from pyspark.sql.types import IntegerType\n",
    "from pyspark.sql.functions import col\n",
    "\n",
    "ratings_data =ratings_data.withColumn(\"userId\", col(\"userId\").cast(\"integer\"))\n",
    "ratings_data =ratings_data.withColumn(\"movieId\", col(\"movieId\").cast(\"integer\"))\n",
    "ratings_data =ratings_data.withColumn(\"ratings\", col(\"ratings\").cast(\"double\"))\n",
    "ratings_data =ratings_data.withColumn(\"timestamp\", col(\"timestamp\").cast(\"integer\"))"
   ]
  },
  {
   "cell_type": "code",
   "execution_count": 53,
   "id": "cea07ea0",
   "metadata": {},
   "outputs": [],
   "source": [
    "(training, test) = ratings_data.randomSplit ([0.8, 0.2])\n",
    "\n",
    "als = ALS(userCol=\"userId\", itemCol=\"movieId\", ratingCol=\"ratings\", coldStartStrategy=\"drop\", nonnegative=True)"
   ]
  },
  {
   "cell_type": "code",
   "execution_count": 54,
   "id": "aeaf7f2d",
   "metadata": {},
   "outputs": [],
   "source": [
    "param_grid = ParamGridBuilder()\\\n",
    "            .addGrid(als.rank, [10])\\\n",
    "            .addGrid(als.maxIter, [15])\\\n",
    "            .addGrid(als.regParam, [0.05])\\\n",
    "            .build()\n",
    "\n",
    "evaluator = RegressionEvaluator(metricName=\"rmse\", labelCol=\"ratings\",\n",
    "                               predictionCol=\"prediction\")\n",
    "\n",
    "tvs = TrainValidationSplit(estimator = als,\n",
    "                          estimatorParamMaps= param_grid,\n",
    "                          evaluator = evaluator)\n"
   ]
  },
  {
   "cell_type": "code",
   "execution_count": 55,
   "id": "7698e33c",
   "metadata": {},
   "outputs": [
    {
     "name": "stdout",
     "output_type": "stream",
     "text": [
      "RMSE = 0.858963540253887\n",
      "**Best Model**\n",
      " Rank:\n",
      " MaxIter:\n",
      " RegParam:\n"
     ]
    },
    {
     "data": {
      "text/plain": [
       "(None, 0.05)"
      ]
     },
     "execution_count": 55,
     "metadata": {},
     "output_type": "execute_result"
    }
   ],
   "source": [
    "model = tvs.fit(training)\n",
    "\n",
    "best_model = model.bestModel\n",
    "\n",
    "predictions = best_model.transform(test)\n",
    "rmse = evaluator.evaluate(predictions)\n",
    "\n",
    "print(\"RMSE = \" + str(rmse))\n",
    "print(\"**Best Model**\")\n",
    "print(\" Rank:\"), best_model.rank\n",
    "print(\" MaxIter:\"), best_model._java_obj.parent().getMaxIter()\n",
    "print(\" RegParam:\"), best_model._java_obj.parent().getRegParam()"
   ]
  },
  {
   "cell_type": "code",
   "execution_count": 56,
   "id": "098cf171",
   "metadata": {},
   "outputs": [],
   "source": [
    "user_recs = best_model.recommendForAllUsers(5)"
   ]
  },
  {
   "cell_type": "code",
   "execution_count": 57,
   "id": "8c6665b9",
   "metadata": {},
   "outputs": [
    {
     "name": "stdout",
     "output_type": "stream",
     "text": [
      "+------+--------------------+\n",
      "|userId|     recommendations|\n",
      "+------+--------------------+\n",
      "|    26|[{572, 5.125716},...|\n",
      "|    27|[{670, 5.2344}, {...|\n",
      "|    28|[{557, 4.7238846}...|\n",
      "|    31|[{572, 4.9166923}...|\n",
      "|    34|[{572, 5.4904385}...|\n",
      "|    44|[{3092, 4.957605}...|\n",
      "|    53|[{557, 5.994532},...|\n",
      "|    65|[{572, 6.3049498}...|\n",
      "|    76|[{572, 5.5808873}...|\n",
      "|    78|[{3415, 5.0223584...|\n",
      "|    81|[{557, 5.5025225}...|\n",
      "|    85|[{1796, 6.006885}...|\n",
      "|   101|[{2388, 6.6718373...|\n",
      "|   108|[{296, 4.3056245}...|\n",
      "|   115|[{887, 6.480039},...|\n",
      "|   126|[{2776, 6.3038836...|\n",
      "|   133|[{3314, 6.223572}...|\n",
      "|   137|[{572, 5.321805},...|\n",
      "|   148|[{572, 5.3418393}...|\n",
      "|   155|[{572, 5.020179},...|\n",
      "+------+--------------------+\n",
      "only showing top 20 rows\n",
      "\n"
     ]
    }
   ],
   "source": [
    "user_recs.show()"
   ]
  },
  {
   "cell_type": "code",
   "execution_count": 63,
   "id": "8da8c1ca",
   "metadata": {},
   "outputs": [],
   "source": [
    "movie[\"Genres\"]= movie[\"Genres\"].str.replace('[{}]'.format(string.punctuation), \", \")\n",
    "movie[\"movieId\"]= movie[\"movieId\"].str.replace('[{}]'.format(string.punctuation), '')\n",
    "movie[\"movieId\"]=movie[\"movieId\"].astype(int)\n"
   ]
  },
  {
   "cell_type": "code",
   "execution_count": 67,
   "id": "4ae15e73",
   "metadata": {},
   "outputs": [],
   "source": [
    "def get_recs_for_user(user):\n",
    "    recs = user_recs.filter(user_recs.userId==user)\n",
    "    recs = recs.select(\"recommendations.movieId\", \"recommendations.rating\") # add \"userId\" ıf you want to add userId column\n",
    "    movies = recs.select(\"movieId\").toPandas().iloc[0,0]\n",
    "    #ratings= recs.select(\"rating\").toPandas().iloc[0,0]\n",
    "    #userıd= recs.select(\"userId\").toPandas().iloc[0,0] \n",
    "    ratings_matrix= pd.DataFrame(movies, columns=[\"movieId\"])\n",
    "    #ratings_matrix[\"ratings\"]=ratings\n",
    "    #ratings_matrix[\"userId\"]=userıd  \n",
    "    #ratings_matrix_ps= spark.createDataFrame(ratings_matrix) #ıf you want to get spark dataframe\n",
    "    matrix = pd.merge(ratings_matrix, movie, how=\"inner\", on=\"movieId\")\n",
    "    \n",
    "\n",
    "    recommended_movies = []\n",
    "    recommended_movies_posters = []\n",
    "    #recommended_genres = []\n",
    "    \n",
    "    for i in matrix.movieId:\n",
    "        recommended_movies_posters.append(i)\n",
    "        \n",
    "    for k in matrix.Title:\n",
    "        recommended_movies.append(k)\n",
    "        \n",
    "   # for m in matrix.Genres:\n",
    "   #     recommended_genres.append(m)\n",
    "        \n",
    "    \n",
    "    return recommended_movies, recommended_movies_posters#, recommended_genres"
   ]
  },
  {
   "cell_type": "code",
   "execution_count": 68,
   "id": "1dff22fd",
   "metadata": {},
   "outputs": [
    {
     "data": {
      "text/plain": [
       "(['Foreign Student (1994)',\n",
       "  'Dingo (1992)',\n",
       "  \"All the Rage (a.k.a. It's the Rage) (1999)\",\n",
       "  'Raiders of the Lost Ark (1981)',\n",
       "  'Saving Private Ryan (1998)'],\n",
       " [572, 853, 3867, 1198, 2028])"
      ]
     },
     "execution_count": 68,
     "metadata": {},
     "output_type": "execute_result"
    }
   ],
   "source": [
    "get_recs_for_user(125)"
   ]
  },
  {
   "cell_type": "code",
   "execution_count": 69,
   "id": "8b53a07d",
   "metadata": {},
   "outputs": [],
   "source": [
    "import pickle\n",
    "\n",
    "pickle.dump(movie, open(\"movie.pkl\",\"wb\" ))\n",
    "pickle.dump(users, open(\"users.pkl\",\"wb\" ))"
   ]
  },
  {
   "cell_type": "code",
   "execution_count": 70,
   "id": "8e72552c",
   "metadata": {},
   "outputs": [],
   "source": [
    "user_recs.select(\"userId\", \"recommendations\").write.save(\"user_recs.parquet\")"
   ]
  },
  {
   "cell_type": "raw",
   "id": "23576f63",
   "metadata": {},
   "source": [
    "import pickle\n",
    "#movie = pickle.load(open(\"movie.pkl\", \"rb\"))\n",
    "users = pickle.load(open(\"users.pkl\", \"rb\"))\n",
    "user_recs = spark.read.load(\"user_recs.parquet\")"
   ]
  },
  {
   "cell_type": "code",
   "execution_count": null,
   "id": "1bbf6480",
   "metadata": {},
   "outputs": [],
   "source": []
  }
 ],
 "metadata": {
  "kernelspec": {
   "display_name": "python37",
   "language": "python",
   "name": "python37"
  },
  "language_info": {
   "codemirror_mode": {
    "name": "ipython",
    "version": 3
   },
   "file_extension": ".py",
   "mimetype": "text/x-python",
   "name": "python",
   "nbconvert_exporter": "python",
   "pygments_lexer": "ipython3",
   "version": "3.9.7"
  }
 },
 "nbformat": 4,
 "nbformat_minor": 5
}
